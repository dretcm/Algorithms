{
  "nbformat": 4,
  "nbformat_minor": 0,
  "metadata": {
    "colab": {
      "name": "Algoritmos.ipynb",
      "provenance": [],
      "collapsed_sections": [
        "aVu1CHyJslLl",
        "iIo-6oruxuuH",
        "51jN5G_-I1pm",
        "5dNDhyTP_1Hi"
      ],
      "authorship_tag": "ABX9TyPfyoach+E7OlPOkiTIzdra",
      "include_colab_link": true
    },
    "kernelspec": {
      "name": "python3",
      "display_name": "Python 3"
    }
  },
  "cells": [
    {
      "cell_type": "markdown",
      "metadata": {
        "id": "view-in-github",
        "colab_type": "text"
      },
      "source": [
        "<a href=\"https://colab.research.google.com/github/dretcm/Algorithms/blob/main/Algoritmos.ipynb\" target=\"_parent\"><img src=\"https://colab.research.google.com/assets/colab-badge.svg\" alt=\"Open In Colab\"/></a>"
      ]
    },
    {
      "cell_type": "markdown",
      "metadata": {
        "id": "aVu1CHyJslLl"
      },
      "source": [
        "# Fibonacci"
      ]
    },
    {
      "cell_type": "code",
      "metadata": {
        "id": "dtKX9Qblspdp",
        "colab": {
          "base_uri": "https://localhost:8080/",
          "height": 54
        },
        "outputId": "e2cea9fe-86fc-49f2-a0e0-7b0f66f399b1"
      },
      "source": [
        "import sys\n",
        "\n",
        "def fibonacci(n,data={}):\n",
        "  if n <= 1:\n",
        "    return 1\n",
        "  try:\n",
        "    return data[n]\n",
        "  except KeyError:\n",
        "    reply = fibonacci(n-2) + fibonacci(n-1)\n",
        "    data[n] = reply\n",
        "    return reply\n",
        "\n",
        "# ya no se tendra que calcular los valores denuevo, sino que se almacenaran en \"data\" o un diccionario\n",
        "\n",
        "if __name__ == '__main__':\n",
        "  sys.setrecursionlimit(10010) # se define 10 010 como threshold o limite en recursividad para no afectar a funciones extra.\n",
        "  print(fibonacci(10000))"
      ],
      "execution_count": null,
      "outputs": [
        {
          "output_type": "stream",
          "text": [
            "54438373113565281338734260993750380135389184554695967026247715841208582865622349017083051547938960541173822675978026317384359584751116241439174702642959169925586334117906063048089793531476108466259072759367899150677960088306597966641965824937721800381441158841042480997984696487375337180028163763317781927941101369262750979509800713596718023814710669912644214775254478587674568963808002962265133111359929762726679441400101575800043510777465935805362502461707918059226414679005690752321895868142367849593880756423483754386342639635970733756260098962462668746112041739819404875062443709868654315626847186195620146126642232711815040367018825205314845875817193533529827837800351902529239517836689467661917953884712441028463935449484614450778762529520961887597272889220768537396475869543159172434537193611263743926337313005896167248051737986306368115003088396749587102619524631352447499505204198305187168321623283859794627245919771454628218399695789223798912199431775469705216131081096559950638297261253848242007897109054754028438149611930465061866170122983288964352733750792786069444761853525144421077928045979904561298129423809156055033032338919609162236698759922782923191896688017718575555520994653320128446502371153715141749290913104897203455577507196645425232862022019506091483585223882711016708433051169942115775151255510251655931888164048344129557038825477521111577395780115868397072602565614824956460538700280331311861485399805397031555727529693399586079850381581446276433858828529535803424850845426446471681531001533180479567436396815653326152509571127480411928196022148849148284389124178520174507305538928717857923509417743383331506898239354421988805429332440371194867215543576548565499134519271098919802665184564927827827212957649240235507595558205647569365394873317659000206373126570643509709482649710038733517477713403319028105575667931789470024118803094604034362953471997461392274791549730356412633074230824051999996101549784667340458326852960388301120765629245998136251652347093963049734046445106365304163630823669242257761468288461791843224793434406079917883360676846711185597501\n"
          ],
          "name": "stdout"
        }
      ]
    },
    {
      "cell_type": "code",
      "metadata": {
        "id": "eOqQosnB8-QN"
      },
      "source": [
        "def fibonaci(n):\r\n",
        "  x,y,z = 0,1,1\r\n",
        "  for i in range(n):\r\n",
        "    z = x + y\r\n",
        "    x = y\r\n",
        "    y = z\r\n",
        "  return z\r\n",
        "\r\n",
        "def fibo(n, x=0, y=1, z=1):\r\n",
        "  if n == 0:\r\n",
        "    return z\r\n",
        "  z = x + y\r\n",
        "  x = y\r\n",
        "  y = z\r\n",
        "  return fibo(n - 1, x,y,z)"
      ],
      "execution_count": null,
      "outputs": []
    },
    {
      "cell_type": "code",
      "metadata": {
        "id": "c29dS7wSSB2o",
        "colab": {
          "base_uri": "https://localhost:8080/",
          "height": 34
        },
        "outputId": "11bfd674-8dc3-44cd-b386-6ce5db2fca7b"
      },
      "source": [
        "def factorial(n, initial=1, state = 0):\n",
        "  return initial if n == state else factorial(n, initial*(state+1), state+1)\n",
        "factorial(5)"
      ],
      "execution_count": null,
      "outputs": [
        {
          "output_type": "execute_result",
          "data": {
            "text/plain": [
              "120"
            ]
          },
          "metadata": {
            "tags": []
          },
          "execution_count": 35
        }
      ]
    },
    {
      "cell_type": "code",
      "metadata": {
        "id": "qELZxVD98MDe"
      },
      "source": [
        "def factorial(n):\r\n",
        "  if n <= 1:\r\n",
        "    return 1\r\n",
        "  return n * factorial(n-1)"
      ],
      "execution_count": null,
      "outputs": []
    },
    {
      "cell_type": "code",
      "metadata": {
        "id": "MyrlWnOSWkHg",
        "colab": {
          "base_uri": "https://localhost:8080/",
          "height": 85
        },
        "outputId": "84ddd8cf-7149-4889-8da5-4ccb50d87986"
      },
      "source": [
        "def sequence(word):\n",
        "  word = word.split()\n",
        "  if not word:\n",
        "    return\n",
        "  print(word[0])\n",
        "  word.pop(0)\n",
        "  sequence(' '.join(word))\n",
        "\n",
        "sequence('hola gente como anda')"
      ],
      "execution_count": null,
      "outputs": [
        {
          "output_type": "stream",
          "text": [
            "hola\n",
            "gente\n",
            "como\n",
            "anda\n"
          ],
          "name": "stdout"
        }
      ]
    },
    {
      "cell_type": "markdown",
      "metadata": {
        "id": "iIo-6oruxuuH"
      },
      "source": [
        "# Towers of hanoi"
      ]
    },
    {
      "cell_type": "code",
      "metadata": {
        "id": "NS2XCTBxyelj",
        "colab": {
          "base_uri": "https://localhost:8080/",
          "height": 272
        },
        "outputId": "973e348e-3a9f-4db1-ed07-ac38371bde10"
      },
      "source": [
        "def move(p1,p2):\n",
        "  print(' move from {} to {}.'.format(p1,p2))\n",
        "\n",
        "def hanoi(discs, tower_a, tower_b, tower_c):\n",
        "  if discs == 0:\n",
        "    return\n",
        "  hanoi(discs-1, tower_a, tower_c, tower_b) # 3acb, 2abc, 1acb, 0abc \n",
        "  move(tower_a, tower_c)\n",
        "  hanoi(discs-1, tower_b, tower_a, tower_c)\n",
        "\n",
        "hanoi(4,'A','B','C')"
      ],
      "execution_count": null,
      "outputs": [
        {
          "output_type": "stream",
          "text": [
            " move from A to B.\n",
            " move from A to C.\n",
            " move from B to C.\n",
            " move from A to B.\n",
            " move from C to A.\n",
            " move from C to B.\n",
            " move from A to B.\n",
            " move from A to C.\n",
            " move from B to C.\n",
            " move from B to A.\n",
            " move from C to A.\n",
            " move from B to C.\n",
            " move from A to B.\n",
            " move from A to C.\n",
            " move from B to C.\n"
          ],
          "name": "stdout"
        }
      ]
    },
    {
      "cell_type": "code",
      "metadata": {
        "id": "PvngR3uN3VOi",
        "colab": {
          "base_uri": "https://localhost:8080/",
          "height": 51
        },
        "outputId": "e1d9e5ae-d72f-4926-d451-93dd0bcb54a1"
      },
      "source": [
        "def plus(a,b):\n",
        "  return a if b==0 else plus(a+1, b-1)\n",
        "\n",
        "def multiplication(a,b,data=[]):\n",
        "  if b == 0:\n",
        "    return sum(data)\n",
        "  data.append(a)\n",
        "  return multiplication(a, b-1)\n",
        "\n",
        "print(plus(4,5))\n",
        "print(multiplication(4,5))"
      ],
      "execution_count": null,
      "outputs": [
        {
          "output_type": "stream",
          "text": [
            "9\n",
            "20\n"
          ],
          "name": "stdout"
        }
      ]
    },
    {
      "cell_type": "markdown",
      "metadata": {
        "id": "51jN5G_-I1pm"
      },
      "source": [
        "# Sudoku"
      ]
    },
    {
      "cell_type": "code",
      "metadata": {
        "id": "b1vwpUrY1HU8"
      },
      "source": [
        "import numpy as np\n",
        "import random"
      ],
      "execution_count": null,
      "outputs": []
    },
    {
      "cell_type": "code",
      "metadata": {
        "id": "qkV8kEV3SYgq",
        "colab": {
          "base_uri": "https://localhost:8080/",
          "height": 272
        },
        "outputId": "58fe955a-f9ba-4129-ffd2-6a654d8aeb79"
      },
      "source": [
        "def shuffle(arr):\n",
        "  grid = []\n",
        "  for _ in range(len(arr)):\n",
        "    value = random.choice(arr)\n",
        "    arr.remove(value)\n",
        "    grid.append(value)\n",
        "  return grid\n",
        "\n",
        "def new_sudoku():\n",
        "  row = list(range(1,10))\n",
        "  grid = []\n",
        "  for i in range(0,9):\n",
        "    if not grid:\n",
        "      aux = shuffle(row.copy())\n",
        "      grid += [aux]\n",
        "    else:\n",
        "      aux = shuffle(row.copy())\n",
        "      test = [True if aux[p] in [g[p] for g in grid] else False for p in range(0,9)]\n",
        "      while True in test:\n",
        "        aux = shuffle(row.copy())\n",
        "        test = [True if aux[p] in [g[p] for g in grid] else False for p in range(0,9)]\n",
        "      grid += [aux]\n",
        "  return grid\n",
        "\n",
        "def generate_sudoku():\n",
        "  grid = new_sudoku()\n",
        "  for i in range(0,9):\n",
        "    for j in range(0,9):\n",
        "      pass"
      ],
      "execution_count": null,
      "outputs": [
        {
          "output_type": "stream",
          "text": [
            "------------------------------\n",
            "------------SUDOKU------------\n",
            "------------------------------\n",
            "(7)(2)(4)|(1)(9)(8)|(5)(6)(3)|\n",
            "(9)(5)(7)|(3)(6)(4)|(8)(1)(2)|\n",
            "(8)(7)(2)|(5)(3)(1)|(6)(9)(4)|\n",
            "------------------------------\n",
            "(5)(1)(9)|(6)(4)(7)|(2)(3)(8)|\n",
            "(6)(4)(5)|(7)(2)(3)|(9)(8)(1)|\n",
            "(4)(3)(8)|(9)(1)(6)|(7)(2)(5)|\n",
            "------------------------------\n",
            "(1)(6)(3)|(2)(8)(5)|(4)(7)(9)|\n",
            "(2)(8)(1)|(4)(7)(9)|(3)(5)(6)|\n",
            "(3)(9)(6)|(8)(5)(2)|(1)(4)(7)|\n",
            "------------------------------\n"
          ],
          "name": "stdout"
        }
      ]
    },
    {
      "cell_type": "code",
      "metadata": {
        "id": "B2OdNu9_VeAg",
        "colab": {
          "base_uri": "https://localhost:8080/",
          "height": 272
        },
        "outputId": "d232269e-7a78-4425-f191-56b417df5fd6"
      },
      "source": [
        "def print_sudoku(arr):\n",
        "  con = 0\n",
        "  con2 = 0\n",
        "  print('---'*10)\n",
        "  print('---'*4+'SUDOKU'+'---'*4)\n",
        "  print('---'*10)\n",
        "  for x in arr:\n",
        "    for y in x:\n",
        "      con +=1\n",
        "      print('('+str(y)+')',end='')\n",
        "      if con == 3:\n",
        "        print('|',end='')\n",
        "        con = 0\n",
        "    print()\n",
        "    con2 +=1\n",
        "    if con2 == 3:\n",
        "      print('---'*10)\n",
        "      con2 = 0\n",
        "      \n",
        "#FrameWork[FrameWork == 0] = np.nan\n",
        "print_sudoku(FrameWork)"
      ],
      "execution_count": null,
      "outputs": [
        {
          "output_type": "stream",
          "text": [
            "------------------------------\n",
            "------------SUDOKU------------\n",
            "------------------------------\n",
            "(0)(0)(2)|(0)(7)(0)|(9)(0)(0)|\n",
            "(0)(4)(0)|(0)(0)(2)|(5)(7)(0)|\n",
            "(0)(0)(0)|(5)(0)(0)|(0)(0)(8)|\n",
            "------------------------------\n",
            "(0)(0)(1)|(0)(4)(0)|(0)(0)(3)|\n",
            "(3)(0)(0)|(0)(5)(0)|(0)(1)(0)|\n",
            "(8)(0)(0)|(0)(0)(0)|(0)(0)(0)|\n",
            "------------------------------\n",
            "(0)(5)(0)|(0)(0)(9)|(1)(0)(6)|\n",
            "(2)(6)(0)|(0)(0)(0)|(0)(0)(0)|\n",
            "(0)(0)(7)|(6)(0)(0)|(0)(0)(0)|\n",
            "------------------------------\n"
          ],
          "name": "stdout"
        }
      ]
    },
    {
      "cell_type": "code",
      "metadata": {
        "id": "n4cTM2C1I02p"
      },
      "source": [
        "def possible(y,x,n):\n",
        "  global FrameWork\n",
        "  for i in range(0,9):\n",
        "    if FrameWork[y][i] == n:\n",
        "      return False\n",
        "  for i in range(0,9):\n",
        "    if FrameWork[i][x] == n:\n",
        "      return False\n",
        "  x0 = (x//3)*3\n",
        "  y0 = (y//3)*3\n",
        "  for i in range(0,3):\n",
        "    for j in range(0,3):\n",
        "      if FrameWork[y0+i][x0+j] == n:\n",
        "        return False\n",
        "  return True\n",
        "\n",
        "def solver():\n",
        "  global FrameWork\n",
        "  for y in range(0,9):\n",
        "    for x in range(0,9):\n",
        "      if FrameWork[y][x] == 0:\n",
        "        for n in range(1,10):\n",
        "          if possible(y,x,n):\n",
        "            FrameWork[y][x] = n\n",
        "            solver()\n",
        "            FrameWork[y][x] = 0\n",
        "        return\n",
        "  print_sudoku(FrameWork)\n",
        "  input('hello: ')"
      ],
      "execution_count": null,
      "outputs": []
    },
    {
      "cell_type": "code",
      "metadata": {
        "id": "SxLSQOpUKTjU",
        "colab": {
          "base_uri": "https://localhost:8080/",
          "height": 289
        },
        "outputId": "6c210e74-2ccd-4f56-85c8-305eec7e85e0"
      },
      "source": [
        "fw = [\n",
        "        [0, 5, 0, 4, 7, 0, 0, 0, 0],\n",
        "        [6, 0, 0, 0, 0, 0, 8, 0, 4],\n",
        "        [0, 0, 4, 0, 0, 0, 7, 2, 1],\n",
        "        [9, 0, 0, 8, 2, 0, 6, 0, 0],\n",
        "        [0, 0, 0, 0, 0, 4, 5, 0, 0],\n",
        "        [0, 1, 5, 0, 0, 0, 2, 4, 0],\n",
        "        [0, 0, 7, 9, 6, 0, 0, 8, 0],\n",
        "        [0, 3, 0, 5, 0, 7, 0, 0, 0],\n",
        "        [5, 8, 0, 0, 0, 3, 0, 0, 6],\n",
        "       ]\n",
        "grid = [\n",
        "        [3, 0, 5, 6, 2, 9, 0, 0, 7],\n",
        "        [7, 0, 6, 1, 0, 8, 0, 0, 0],\n",
        "        [8, 0, 1, 0, 0, 0, 2, 6, 5],\n",
        "        [0, 0, 3, 0, 0, 5, 0, 7, 0],\n",
        "        [6, 8, 7, 0, 0, 0, 0, 0, 0],\n",
        "        [2, 0, 0, 7, 0, 0, 6, 0, 0],\n",
        "        [4, 7, 9, 5, 8, 0, 0, 2, 0],\n",
        "        [1, 0, 0, 4, 3, 0, 5, 0, 9],\n",
        "        [0, 0, 8, 9, 0, 0, 0, 0, 6],\n",
        "       ]\n",
        "#print_sudoku(grid)\n",
        "aux = generate_sudoku()\n",
        "FrameWork = fw.copy() #grid.copy() #aux.copy()\n",
        "#print_sudoku(FrameWork)\n",
        "solver()\n",
        "#print_sudoku(FrameWork)"
      ],
      "execution_count": null,
      "outputs": [
        {
          "output_type": "stream",
          "text": [
            "------------------------------\n",
            "------------SUDOKU------------\n",
            "------------------------------\n",
            "(8)(5)(1)|(4)(7)(2)|(9)(6)(3)|\n",
            "(6)(7)(2)|(1)(3)(9)|(8)(5)(4)|\n",
            "(3)(9)(4)|(6)(5)(8)|(7)(2)(1)|\n",
            "------------------------------\n",
            "(9)(4)(3)|(8)(2)(5)|(6)(1)(7)|\n",
            "(2)(6)(8)|(7)(1)(4)|(5)(3)(9)|\n",
            "(7)(1)(5)|(3)(9)(6)|(2)(4)(8)|\n",
            "------------------------------\n",
            "(4)(2)(7)|(9)(6)(1)|(3)(8)(5)|\n",
            "(1)(3)(6)|(5)(8)(7)|(4)(9)(2)|\n",
            "(5)(8)(9)|(2)(4)(3)|(1)(7)(6)|\n",
            "------------------------------\n",
            "hello: aea\n"
          ],
          "name": "stdout"
        }
      ]
    },
    {
      "cell_type": "code",
      "metadata": {
        "id": "MqiYTJ5eBPcE",
        "colab": {
          "base_uri": "https://localhost:8080/",
          "height": 170
        },
        "outputId": "77246036-48a0-461a-9dbd-09fdbe4a5342"
      },
      "source": [
        "def line(val,arr,a,b):\n",
        "  for x in range(0,9):\n",
        "    if val == arr[a][x] or val == arr[x][b]:\n",
        "      return True\n",
        "  return False\n",
        "\n",
        "def generate_sudoku():\n",
        "  FrameWork = np.zeros(81).reshape(9,9)\n",
        "  rg = FrameWork.shape[0]\n",
        "\n",
        "  for i in range(0,rg,3):\n",
        "    for f in range(0,rg,3):\n",
        "      aux, aux2 = list(range(i,i+3)), list(range(f,f+3))\n",
        "      square = list(range(1,10))\n",
        "      quantity = random.randint(2,5)\n",
        "      for _ in range(quantity):\n",
        "        x, y = random.choice(aux), random.choice(aux2)\n",
        "        while FrameWork[x][y] != 0:\n",
        "          x, y = random.choice(aux), random.choice(aux2)\n",
        "        #print(x,y)\n",
        "        value = random.choice(square)\n",
        "        while line(value,FrameWork,x,y):\n",
        "          value = random.choice(square) \n",
        "        square.remove(value)\n",
        "        FrameWork[x][y] = value\n",
        "\n",
        "  FrameWork = [[0 if x == 0 else int(x) for x in data] for data in FrameWork]\n",
        "  return FrameWork\n",
        "\n",
        "FrameWork = generate_sudoku()\n",
        "FrameWork"
      ],
      "execution_count": null,
      "outputs": [
        {
          "output_type": "execute_result",
          "data": {
            "text/plain": [
              "[[0, 0, 2, 0, 7, 0, 9, 0, 0],\n",
              " [0, 4, 0, 0, 0, 2, 5, 7, 0],\n",
              " [0, 0, 0, 5, 0, 0, 0, 0, 8],\n",
              " [0, 0, 1, 0, 4, 0, 0, 0, 3],\n",
              " [3, 0, 0, 0, 5, 0, 0, 1, 0],\n",
              " [8, 0, 0, 0, 0, 0, 0, 0, 0],\n",
              " [0, 5, 0, 0, 0, 9, 1, 0, 6],\n",
              " [2, 6, 0, 0, 0, 0, 0, 0, 0],\n",
              " [0, 0, 7, 6, 0, 0, 0, 0, 0]]"
            ]
          },
          "metadata": {
            "tags": []
          },
          "execution_count": 73
        }
      ]
    },
    {
      "cell_type": "code",
      "metadata": {
        "id": "Z3IEAXzlDQpg"
      },
      "source": [
        "def auto_sudoku(FW,date):\n",
        "  rg = 9\n",
        "  con1 = 0\n",
        "  con2 = 0\n",
        "  square = list(range(1,10))\n",
        "  for i in range(0,rg,3):\n",
        "    for j in range(0,rg,3):\n",
        "      aux = square.copy()\n",
        "      con2 = 0\n",
        "      con1 = 0\n",
        "      for _ in range(9):\n",
        "        val = FW[i+con1][j+con2]\n",
        "        if val in aux:\n",
        "          aux.remove(val)\n",
        "        con2 +=1\n",
        "        if con2 == 3:\n",
        "          con2 = 0\n",
        "          con1 +=1\n",
        "      con2 = 0\n",
        "      con1 = 0\n",
        "      con_x = 0\n",
        "      val = random.choice(aux)\n",
        "      while (val in FW[i+con1]) or (val in [fw[j+con2] for fw in FW]) or (FW[i+con1][j+con2]!=0):\n",
        "        val = random.choice(aux)\n",
        "        con1 = random.randint(0,2)\n",
        "        con2 = random.randint(0,2)\n",
        "        con_x += 1\n",
        "        if con_x == 10:\n",
        "          print(f'fail n {date}')\n",
        "          return False, FW\n",
        "      FW[i+con1][j+con2] = val\n",
        "  return 0 not in [v2 for v1 in FW for v2 in v1], FW\n",
        "\n",
        "def sudoku_proccess(Frame):\n",
        "  state = False\n",
        "  date = 1\n",
        "  frame = Frame.copy()\n",
        "  while not state:\n",
        "    state, frame = auto_sudoku(frame,date)\n",
        "    if not state:\n",
        "      date +=1\n",
        "      frame = Frame.copy()\n",
        "  return state\n",
        "\n",
        "print_sudoku(sudoku_proccess(FrameWork))"
      ],
      "execution_count": null,
      "outputs": []
    },
    {
      "cell_type": "code",
      "metadata": {
        "id": "1vgWGNIXX94c"
      },
      "source": [
        "from os import system\n",
        "\n",
        "def play_sudoku(FW):\n",
        "  print_sudoku(FW)\n",
        "\n",
        "  x = int(input(\"row: \"))\n",
        "  y = int(input(\"column: \"))\n",
        "  while FW[x][y] != ' ':\n",
        "    x = int(input(\"row: \"))\n",
        "    y = int(input(\"column: \"))\n",
        "\n",
        "  num = int(input(\"number: \"))\n",
        "  while num < 1 or num > 9:\n",
        "    num = int(input(\"number: \"))\n",
        "\n",
        "  FW[x][y] = num\n",
        "  #system('cls')\n",
        "  print('\\n\\n\\n')\n",
        "\n",
        "while 1:\n",
        "  play_sudoku(FrameWork)"
      ],
      "execution_count": null,
      "outputs": []
    },
    {
      "cell_type": "code",
      "metadata": {
        "id": "sgLLbb4e2EEL"
      },
      "source": [
        "from random import choice\n",
        "\n",
        "def number_in_row(grid, row, number):\n",
        "    return number in grid[row]\n",
        "def number_in_col(grid, col, number):\n",
        "    return number in (row[col] for row in grid)\n",
        "def number_in_box(grid, row, col, number):\n",
        "    # Obtener la caja a la que pertenece el número.\n",
        "    box_row, box_col = box_by_pos(row, col)\n",
        "    # Construir una lista con los números en la caja.\n",
        "    numbers_in_box = unpack(\n",
        "        row[box_col*3:box_col*3 + 3]\n",
        "        for row in grid[box_row*3:box_row*3 + 3]\n",
        "    )\n",
        "    return number in numbers_in_box\n",
        "def reduce(n):\n",
        "    \"\"\"\n",
        "    Reducir la posición 9x9 a 3x3.\n",
        "    \"\"\"\n",
        "    n /= 3\n",
        "    if n == 0 or n != int(n):\n",
        "        n += 1\n",
        "    return int(n)\n",
        "def box_by_pos(row, col):\n",
        "    # Trabajar temporalmente con base 1.\n",
        "    row += 1\n",
        "    col += 1\n",
        "    # Obtener base 0 nuevamente.\n",
        "    return reduce(row) - 1, reduce(col) - 1\n",
        "def unpack(iterable):\n",
        "    \"\"\"\n",
        "    >>> list(unpack([[1, 2], [3, 4]]))\n",
        "    [1, 2, 3, 4]\n",
        "    \"\"\"\n",
        "    for item in iterable:\n",
        "        yield from item\n",
        "def get_possible_numbers(grid, row, col):\n",
        "    \"\"\"\n",
        "    Retorna números posibles para una determinada posición.\n",
        "    \"\"\"\n",
        "    for number in range(1, 10):\n",
        "        if (not number_in_row(grid, row, number) and\n",
        "            not number_in_col(grid, col, number) and\n",
        "            not number_in_box(grid, row, col, number)):\n",
        "            yield number\n",
        "def main(FW):\n",
        "    while True:\n",
        "      '''\n",
        "        # Los ceros representan casilleros vacíos.\n",
        "        grid = [\n",
        "            [3, 0, 5, 6, 2, 9, 0, 0, 7],\n",
        "            [7, 0, 6, 1, 0, 8, 0, 0, 0],\n",
        "            [8, 0, 1, 0, 0, 0, 2, 6, 5],\n",
        "            [0, 0, 3, 0, 0, 5, 0, 7, 0],\n",
        "            [6, 8, 7, 0, 0, 0, 0, 0, 0],\n",
        "            [2, 0, 0, 7, 0, 0, 6, 0, 0],\n",
        "            [4, 7, 9, 5, 8, 0, 0, 2, 0],\n",
        "            [1, 0, 0, 4, 3, 0, 5, 0, 9],\n",
        "            [0, 0, 8, 9, 0, 0, 0, 0, 6],\n",
        "        ]\n",
        "        '''\n",
        "      s = \\\n",
        "        \"\"\"\\\n",
        "        +-----------------------+\n",
        "        | {} {} {} | {} {} {} | {} {} {} |\n",
        "        | {} {} {} | {} {} {} | {} {} {} |\n",
        "        | {} {} {} | {} {} {} | {} {} {} |\n",
        "        +-----------------------+\n",
        "        | {} {} {} | {} {} {} | {} {} {} |\n",
        "        | {} {} {} | {} {} {} | {} {} {} |\n",
        "        | {} {} {} | {} {} {} | {} {} {} |\n",
        "        +-----------------------+\n",
        "        | {} {} {} | {} {} {} | {} {} {} |\n",
        "        | {} {} {} | {} {} {} | {} {} {} |\n",
        "        | {} {} {} | {} {} {} | {} {} {} |\n",
        "        +-----------------------+\n",
        "        \"\"\"\n",
        "        \n",
        "      while True:\n",
        "            possible_numbers = {\n",
        "                (row, col): None for row in range(9) for col in range(9)\n",
        "            }\n",
        "            \n",
        "            # Obtener una lista de números posibles para cada una de \n",
        "            # las posiciones vacías.\n",
        "            for row in range(9):\n",
        "                for col in range(9):\n",
        "                    number = FW[row][col]\n",
        "                    if number == 0:\n",
        "                        options = list(\n",
        "                            get_possible_numbers(FW, row, col)\n",
        "                        )\n",
        "                        if options:\n",
        "                            possible_numbers[(row, col)] = options\n",
        "            \n",
        "            # Remover valores vacíos y ordenar por la cantidad de \n",
        "            # posibilidades.\n",
        "            possible_numbers = sorted(\n",
        "                (\n",
        "                    (k, v)\n",
        "                    for (k, v) in possible_numbers.items()\n",
        "                    if v is not None\n",
        "                ),\n",
        "                key=lambda kv: len(kv[1])\n",
        "            )\n",
        "            \n",
        "            if possible_numbers:\n",
        "                # Obtener el primer item.\n",
        "                (row, col), numbers = possible_numbers[0]\n",
        "                # Fuerza bruta: obtener un número aleatorio de la \n",
        "                # lista de posibiilidades hasta que la grilla esté\n",
        "                # completa.\n",
        "                FW[row][col] = choice(numbers)\n",
        "            else:\n",
        "                break\n",
        "        \n",
        "        # Chequear si la fuerza bruta dió resultado: si no hay más \n",
        "        # ceros en la grilla entonces el Sudoku está resuelto.\n",
        "      if 0 not in unpack(FW):\n",
        "        print(s.format(*(unpack(FW))))\n",
        "        break\n",
        "\n",
        "main(FrameWork)"
      ],
      "execution_count": null,
      "outputs": []
    },
    {
      "cell_type": "code",
      "metadata": {
        "id": "0Y296EYmEhYk",
        "colab": {
          "base_uri": "https://localhost:8080/",
          "height": 34
        },
        "outputId": "69d528b0-0be1-498f-a9e6-bd52c84e9c93"
      },
      "source": [
        "l = [1,2,3]\n",
        "a = [[3,5,4]]\n",
        "a += [l]\n",
        "a\n",
        "# #a.remove(2)\n",
        "# a,l\n",
        "\n",
        "# for i in range(0,9,3):\n",
        "#   print(i)\n",
        "\n",
        "# if not a:\n",
        "#   print(1000)\n",
        "# else:\n",
        "#   print(-5)"
      ],
      "execution_count": null,
      "outputs": [
        {
          "output_type": "execute_result",
          "data": {
            "text/plain": [
              "[[3, 5, 4], [1, 2, 3]]"
            ]
          },
          "metadata": {
            "tags": []
          },
          "execution_count": 97
        }
      ]
    },
    {
      "cell_type": "markdown",
      "metadata": {
        "id": "5dNDhyTP_1Hi"
      },
      "source": [
        "# Order, Search arrays"
      ]
    },
    {
      "cell_type": "code",
      "metadata": {
        "id": "smIMSmR4_5bZ"
      },
      "source": [
        "#@title Sorted with recursion\n",
        "def order(arr, ord_arr=[]):\n",
        "  if not arr:\n",
        "    return ord_arr\n",
        "  min = 100000\n",
        "  pos = 0\n",
        "  for a in range(len(arr)):\n",
        "    if arr[a]<min:\n",
        "      min = arr[a]\n",
        "      pos = a\n",
        "  ord_arr.append(arr[pos])\n",
        "  arr.pop(pos)\n",
        "  return order(arr,ord_arr)\n",
        "\n",
        "import numpy as np\n",
        "def order2(arr, ord_arr=[]):\n",
        "  if not arr:\n",
        "    return ord_arr\n",
        "  ord_arr.append(np.min(np.array(arr)))\n",
        "  arr.pop(np.argmin(np.array(arr)))\n",
        "  return order2(arr,ord_arr)\n",
        "  \n",
        "l = [5,1,2,3,2]\n",
        "print(order(l.copy()))\n",
        "print(order2(l.copy()))"
      ],
      "execution_count": null,
      "outputs": []
    },
    {
      "cell_type": "code",
      "metadata": {
        "id": "BIHNxo3NW9lE",
        "colab": {
          "base_uri": "https://localhost:8080/"
        },
        "outputId": "5e815412-bf71-4e16-d584-ad6ac2fdd52f"
      },
      "source": [
        "#@title Binary Search and Recursivity\n",
        "\n",
        "def binary_search(arr, left, right, goal):\n",
        "  while (left <= right):\n",
        "    pos = int( left + (right - left)/2)\n",
        "    if arr[pos] == goal:\n",
        "      return pos\n",
        "    if arr[pos] < goal:\n",
        "      left = pos + 1\n",
        "    else:\n",
        "      right = pos - 1\n",
        "  return -1\n",
        "\n",
        "def binary_search_recursive(arr, left, right, goal):\n",
        "  if (right >= left):\n",
        "    pos = int( left + (right - 1)/2)\n",
        "    if arr[pos] == goal:\n",
        "      return pos\n",
        "    if arr[pos] < goal:\n",
        "      return binary_search_recursive(arr, pos + 1, right, goal)\n",
        "    return binary_search_recursive(arr, left, pos - 1, goal)\n",
        "  return -1\n",
        "\n",
        "array = [3,4,6,14,18,22]\n",
        "print(binary_search(array, 0, len(array)-1, 4))\n",
        "print('---'*3)\n",
        "binary_search_recursive(array, 0, len(array)-1, 4)    "
      ],
      "execution_count": null,
      "outputs": [
        {
          "output_type": "stream",
          "text": [
            "1\n",
            "---------\n"
          ],
          "name": "stdout"
        },
        {
          "output_type": "execute_result",
          "data": {
            "text/plain": [
              "1"
            ]
          },
          "metadata": {
            "tags": []
          },
          "execution_count": 11
        }
      ]
    },
    {
      "cell_type": "code",
      "metadata": {
        "id": "IkJJkHNL4EhE"
      },
      "source": [
        "#@title Order by insertion\n",
        "\n",
        "def order_by_insertion(arr, apply=False):\n",
        "    if not apply:\n",
        "        arr = arr.copy()\n",
        "    for i in range(1,len(arr)):\n",
        "        val = arr[i]\n",
        "        pos = i\n",
        "        while pos>0 and arr[pos-1]>val: # 7\n",
        "            arr[pos]=arr[pos-1]\n",
        "            pos = pos-1\n",
        "        arr[pos]=val\n",
        "    return arr\n",
        "\n",
        "arr = [5,2,7,1,8,3,9,6,4]\n",
        "order_arr = order_by_insertion(arr)\n",
        "order_by_insertion(arr,True)\n",
        "\n",
        "print(arr)\n",
        "print(order_arr)"
      ],
      "execution_count": null,
      "outputs": []
    },
    {
      "cell_type": "code",
      "metadata": {
        "id": "Ymep4Sgo_y8J"
      },
      "source": [
        "#@title Validate Subsequence - Algo Expert\r\n",
        "\r\n",
        "# first_solution\r\n",
        "def isValidSubsequence(array, sequence):\r\n",
        "\tif not sequence:\r\n",
        "\t\treturn True\r\n",
        "\tif not array:\r\n",
        "\t\treturn False\r\n",
        "\tif array[0] == sequence[0]:\r\n",
        "\t\tarray.pop(0)\r\n",
        "\t\tsequence.pop(0)\r\n",
        "\telse:\r\n",
        "\t\tarray.pop(0)\r\n",
        "\treturn isValidSubsequence(array, sequence)\r\n",
        " \r\n",
        "# second_solution\r\n",
        "def isValidSubsequence(array, sequence):\r\n",
        "\tlenght = len(sequence)\r\n",
        "\tif array and sequence and lenght<=len(array):\r\n",
        "\t\tpos = 0\r\n",
        "\t\tfor i in array:\r\n",
        "\t\t\tif i == sequence[pos]:\r\n",
        "\t\t\t\tpos += 1\r\n",
        "\t\t\tif pos == lenght:\r\n",
        "\t\t\t\treturn True\r\n",
        "\treturn False\r\n",
        "\r\n",
        "# third_solution\r\n",
        "def isValidSubsequence(array, sequence):\r\n",
        "\twhile True:\r\n",
        "\t\t\r\n",
        "\t\tif not sequence:\r\n",
        "\t\t\treturn True\r\n",
        "\t\t\r\n",
        "\t\tif not array:\r\n",
        "\t\t\treturn False\r\n",
        "\t\t\r\n",
        "\t\tif array[0] == sequence[0]:\r\n",
        "\t\t\tarray, sequence = array[1:], sequence[1:]\r\n",
        "\t\telse:\r\n",
        "\t\t\tarray = array[1:]"
      ],
      "execution_count": null,
      "outputs": []
    },
    {
      "cell_type": "markdown",
      "metadata": {
        "id": "hK6gm1ybFbCK"
      },
      "source": [
        "# Propositional logic"
      ]
    },
    {
      "cell_type": "code",
      "metadata": {
        "id": "9EaazZ_wGBN9"
      },
      "source": [
        "import pandas as pd\n",
        "\n",
        "p = [1,1,0,0]\n",
        "q = [1,0,1,0]\n",
        "\n",
        "p_q = [[p[i],q[i]] for i in range(4)]\n",
        "\n",
        "df = pd.DataFrame(p_q,columns=['p','q'])\n",
        "\n",
        "def func_disyuncion_inclusiva(x):\n",
        "    if x['p'] + x['q'] != 0:\n",
        "        return 1\n",
        "    return 0\n",
        "def func_conjuncion(x):\n",
        "    if x['p'] + x['q'] == 2:\n",
        "        return 1\n",
        "    return 0\n",
        "def func_condicional(x):\n",
        "    if x['p'] - x['q'] != 1:\n",
        "        return 1\n",
        "    return 0\n",
        "def func_bicondicional(x):\n",
        "    if x['p'] == x['q']:\n",
        "        return 1\n",
        "    return 0\n",
        "def func_disyuncion_exclusiva(x):\n",
        "    if x['p'] + x['q'] == 1:\n",
        "        return 1\n",
        "    return 0\n",
        "def func_disyuncion_opuesta(x):\n",
        "    if x['p'] + x['q'] == 0:\n",
        "        return 1\n",
        "    return 0\n",
        "\n",
        "df['v'] = df.apply(func_disyuncion_inclusiva, axis=1)\n",
        "df['^'] = df.apply(func_conjuncion, axis=1)\n",
        "df['→'] = df.apply(func_condicional, axis=1)\n",
        "df['↔'] = df.apply(func_bicondicional, axis=1)\n",
        "df['⇹'] = df.apply(func_disyuncion_exclusiva, axis=1)\n",
        "df['↓'] = df.apply(func_disyuncion_opuesta, axis=1)\n",
        "df['~p'] = df.apply(lambda x: abs(x['p']-1), axis=1)\n",
        "df['~q'] = df.apply(lambda x: abs(x['q']-1), axis=1)\n",
        "\n",
        "print(df.head())\n",
        "\n",
        "df.to_excel('prepositional_logic.xlsx', sheet_name='Table')"
      ],
      "execution_count": null,
      "outputs": []
    },
    {
      "cell_type": "markdown",
      "metadata": {
        "id": "3V6GV35TFFU6"
      },
      "source": [
        "# Binary trees and paths"
      ]
    },
    {
      "cell_type": "code",
      "metadata": {
        "id": "0OYxRVp0FIpS"
      },
      "source": [
        "tree = [7,[],[]]\n",
        "tree.clear() \n",
        "\n",
        "def add_element(arr, val):\n",
        "    if not arr:\n",
        "        arr.extend(list([val,[],[]]))\n",
        "    else:\n",
        "        if val < arr[0]:\n",
        "            add_element(arr[1],val)\n",
        "        else:\n",
        "            add_element(arr[2],val)\n",
        "\n",
        "def search(arr, element, lv = 0):\n",
        "    if arr[0] == element:\n",
        "        print(' element in lv ', lv)\n",
        "    else:\n",
        "        if element < arr[0]:\n",
        "            search(arr[1],element,lv+1)\n",
        "        else:\n",
        "            search(arr[2],element,lv+1)\n",
        "            \n",
        "while True:\n",
        "    num = int(input(' → Enter number: '))\n",
        "    if num == 0:\n",
        "        break\n",
        "    else:\n",
        "        add_element(tree, num)\n",
        "        print(tree)\n",
        "\n",
        "def PreOrder(arr):\n",
        "    if not arr:\n",
        "        return 0\n",
        "    print(arr[0],end='')\n",
        "    PreOrder(arr[1])\n",
        "    PreOrder(arr[2])\n",
        "\n",
        "def InOrder(arr):\n",
        "    if not arr:\n",
        "        return 0\n",
        "    InOrder(arr[1])\n",
        "    print(arr[0],end='')\n",
        "    InOrder(arr[2])\n",
        "\n",
        "def PostOrder(arr):\n",
        "    if not arr:\n",
        "        return 0\n",
        "    PostOrder(arr[1])\n",
        "    PostOrder(arr[2])\n",
        "    print(arr[0],end='')\n",
        "\n",
        "search(tree, 7)\n",
        "print(tree)\n",
        "print('PreOrder')\n",
        "PreOrder(tree)\n",
        "print('InOrder')\n",
        "InOrder(tree)\n",
        "print('PostOrder')\n",
        "PostOrder(tree)"
      ],
      "execution_count": null,
      "outputs": []
    },
    {
      "cell_type": "markdown",
      "metadata": {
        "id": "5ydnh6MQUOSn"
      },
      "source": [
        "# MCD & MCM (normal and recursive):"
      ]
    },
    {
      "cell_type": "code",
      "metadata": {
        "id": "dmLOtf_XUiHK"
      },
      "source": [
        "def mcm(arr={}):\r\n",
        "    res = 1\r\n",
        "    i = 1\r\n",
        "    state = False\r\n",
        "    while i <= 9:\r\n",
        "        if not state:\r\n",
        "            i += 1\r\n",
        "        state = False\r\n",
        "        arr = list(set(arr))\r\n",
        "        for n in range(len(arr)):\r\n",
        "            if arr[n] % i == 0:\r\n",
        "                state = True\r\n",
        "                arr[n] /= i\r\n",
        "        if state:\r\n",
        "            res *= i\r\n",
        "        if len(set(arr)) <= 1: # not set(arr) - set([1]):\r\n",
        "            break\r\n",
        "    return res\r\n",
        "\r\n",
        "def mcd(arr={}):\r\n",
        "    res = 1\r\n",
        "    con = 0\r\n",
        "    lenght = len(arr)\r\n",
        "    i = 1\r\n",
        "    while i < 9:\r\n",
        "        if con == 0:\r\n",
        "            i+=1\r\n",
        "        con = 0\r\n",
        "        for n in range(lenght):\r\n",
        "            if arr[n] % i == 0:\r\n",
        "                con +=1\r\n",
        "                arr[n] /= i\r\n",
        "        if con == lenght:\r\n",
        "            res *= i\r\n",
        "    return res\r\n",
        "\r\n",
        "def recursive_mcm(arr,i=1,res=1,state=False):\r\n",
        "    if len(set(arr)) <= 1:\r\n",
        "        return res\r\n",
        "    if not state:\r\n",
        "        i += 1\r\n",
        "    state = False\r\n",
        "    arr = list(set(arr))\r\n",
        "    for n in range(len(arr)):\r\n",
        "        if arr[n] % i == 0:\r\n",
        "            arr[n] /= i\r\n",
        "            state=True\r\n",
        "    if state:\r\n",
        "        res *= i\r\n",
        "    return recursive_mcm(arr,i,res,state)\r\n",
        "\r\n",
        "def recursive_mcd(arr,con=0,i=1,res=1):\r\n",
        "    if i==9:\r\n",
        "        return res\r\n",
        "    if con == 0:\r\n",
        "        i +=1\r\n",
        "    lenght = len(arr)\r\n",
        "    con = 0\r\n",
        "    for n in range(lenght):\r\n",
        "        if arr[n] % i == 0:\r\n",
        "            con +=1\r\n",
        "            arr[n] /= i\r\n",
        "    if con == lenght:\r\n",
        "        res *= i\r\n",
        "    return recursive_mcd(arr,con,i,res)\r\n",
        "\r\n",
        "array = [16,21,4] # mcm : 336\r\n",
        "print(mcm(array.copy()))\r\n",
        "print(recursive_mcm(array.copy()))\r\n",
        "\r\n",
        "array = [9,27,36] # mcd : 9\r\n",
        "print(mcd(array.copy()))\r\n",
        "print(recursive_mcd(array.copy()))\r\n",
        "\r\n",
        "# set(A) - set(B) # DIRENCIA DE CONJUNTOS\r\n",
        "# set(A) | set(B) # UNION DE CONJUNTOS\r\n",
        "# set(A) & set(B) # INTERSECCION DE CONJUNTOS\r\n",
        "# set(A) ^ set(B) # DIRENCIA SIMETRICA DE CONJUNTOS  "
      ],
      "execution_count": null,
      "outputs": []
    },
    {
      "cell_type": "markdown",
      "metadata": {
        "id": "T0u_PcGKX5Cz"
      },
      "source": [
        "# Permutations, Combinations"
      ]
    },
    {
      "cell_type": "markdown",
      "metadata": {
        "id": "DxCztyj4YRtG"
      },
      "source": [
        "![](https://2.bp.blogspot.com/-kYhya8v3NGA/V1madzkvwrI/AAAAAAAABlo/ck1MwwCEEiQLrMdCZVSui5WTuV8NFI3kwCLcB/s1600/permuta.png) [more.](http://edupython.blogspot.com/2016/06/combinaciones-permutaciones-y-otras.html)"
      ]
    },
    {
      "cell_type": "code",
      "metadata": {
        "id": "nevnuIIbYZVR"
      },
      "source": [
        "def permutations(elements):\r\n",
        "  outcome = []\r\n",
        "  lenght = len(elements)\r\n",
        "  aux = elements.copy()\r\n",
        "\r\n",
        "  if lenght == 3:\r\n",
        "    for g in range(3):\r\n",
        "      a= aux[1:]                    \r\n",
        "      b = a[::-1]                    \r\n",
        "      a.insert(g,elements[0])                    \r\n",
        "      b.insert(g,elements[0])                    \r\n",
        "      outcome.append(a)                    \r\n",
        "      outcome.append(b)                    \r\n",
        "    return outcome\r\n",
        "\r\n",
        "  for i in permutations(aux[1:].copy()):      \r\n",
        "    for j in range(lenght):            \r\n",
        "      i.insert(j, elements[0])                  \r\n",
        "      outcome.append(i.copy())                  \r\n",
        "      i.pop(j)                  \r\n",
        "  return outcome      \r\n",
        "\r\n",
        "def combinations(elements, number):\r\n",
        "  new = permutations(elements)      \r\n",
        "  outcome = set ()      \r\n",
        "  for i in new:      \r\n",
        "    outcome.add( tuple (sorted(i[:number])) )            \r\n",
        "  return  outcome   \r\n",
        "\r\n",
        "def permutations_n_of_r(elements, number):\r\n",
        "\tnew = permutations(elements)\r\n",
        "\toutcome = set ()\r\n",
        "\tfor i in new:\r\n",
        "\t\toutcome.add( tuple (i[:number]) )\r\n",
        "\treturn outcome\r\n",
        "\r\n",
        "# data = ['a','b','c','d']\r\n",
        "# print(permutations_n_of_r(data, 2))     "
      ],
      "execution_count": null,
      "outputs": []
    },
    {
      "cell_type": "markdown",
      "metadata": {
        "id": "QGkY0WOA6IJ9"
      },
      "source": [
        "# Bonus"
      ]
    },
    {
      "cell_type": "code",
      "metadata": {
        "id": "9AXKKemK6MjT"
      },
      "source": [
        "#@title Mode, Fashion, Vogue\r\n",
        "import time\r\n",
        "\r\n",
        "def my_mode(arr):\r\n",
        "  elements = set ( tuple (arr))\r\n",
        "  aux = []\r\n",
        "  for e in elements:\r\n",
        "    con = 0\r\n",
        "    for i in arr:  \r\n",
        "      if i == e:                  \r\n",
        "        con += 1                        \r\n",
        "    aux.append(con)            \r\n",
        "\r\n",
        "  elements = list (elements)      \r\n",
        "  print(elements[aux.index(max(aux))])      \r\n",
        "\r\n",
        "# first example\r\n",
        "elements = [3,3,2,1,1,5,3,3,6,3,7,4,5,9,9,8,6,1,2,3,4,3,5]\r\n",
        "\r\n",
        "begin = time.time()\r\n",
        "my_mode(elements)\r\n",
        "print(time.time() - begin)\r\n",
        "\r\n",
        "\r\n",
        "begin = time.time()\r\n",
        "print(\"the mode is: \",max(elements , key=elements .count))\r\n",
        "print(time.time() - begin)\r\n",
        "\r\n",
        "# second example\r\n",
        "a = ['a','c','c','c','d','b','c','a','b','e','e']\r\n",
        "\r\n",
        "begin = time.time()\r\n",
        "print(\"the mode is: \",max(a, key=a.count))\r\n",
        "print(time.time() - begin)\r\n",
        "\r\n",
        "begin = time.time()\r\n",
        "my_mode(a)\r\n",
        "print(time.time() - begin)\r\n",
        "\r\n",
        "# third example\r\n",
        "from collections import Counter\r\n",
        "\r\n",
        "elements = [3,3,2,1,1,5,3,3,6,3,7,4,5,9,9,8,6,1,2,3,4,3,5]\r\n",
        "\r\n",
        "begin = time.time()\r\n",
        "counter = Counter(elements)\r\n",
        "print(counter.most_common(1))\r\n",
        "print(time.time() - begin)"
      ],
      "execution_count": null,
      "outputs": []
    },
    {
      "cell_type": "code",
      "metadata": {
        "id": "_cMmjf2pk5w3"
      },
      "source": [
        "#@title words with the same first letter\r\n",
        "import time\r\n",
        "\r\n",
        "text = 'hi, i am a student and im playing lol.'\r\n",
        "text = text.split(' ')\r\n",
        "\r\n",
        "# file = open('review.txt','r',encoding='utf-8')\r\n",
        "# text = file.read().split(' ')\r\n",
        "\r\n",
        "# first:\r\n",
        "begin = time.time()\r\n",
        "data = {}\r\n",
        "\r\n",
        "for word in text:\r\n",
        "  letter = word[0]      \r\n",
        "  if letter in data:      \r\n",
        "    data[letter].append(word)            \r\n",
        "  else:      \r\n",
        "    data[letter] = [word]            \r\n",
        "print(data)\r\n",
        "print(time.time() - begin)\r\n",
        "\r\n",
        "# second:\r\n",
        "import string\r\n",
        "begin = time.time()\r\n",
        "data = {}\r\n",
        "\r\n",
        "for word in string.ascii_lowercase:\r\n",
        "  data[word] = []      \r\n",
        "  for w in text:      \r\n",
        "    if w[0] == word:            \r\n",
        "      data[word].append(w)                  \r\n",
        "  if not data[word]:    \r\n",
        "    data.pop(word)            \r\n",
        "print(data)\r\n",
        "print(time.time() - begin)"
      ],
      "execution_count": null,
      "outputs": []
    },
    {
      "cell_type": "markdown",
      "metadata": {
        "id": "2RNpyIPJse8F"
      },
      "source": [
        "# other"
      ]
    }
  ]
}